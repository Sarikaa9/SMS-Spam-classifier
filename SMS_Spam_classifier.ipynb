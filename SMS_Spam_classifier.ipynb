{
  "nbformat": 4,
  "nbformat_minor": 0,
  "metadata": {
    "colab": {
      "provenance": [],
      "authorship_tag": "ABX9TyP6Vzm9RdAkwPh162YWv56O",
      "include_colab_link": true
    },
    "kernelspec": {
      "name": "python3",
      "display_name": "Python 3"
    },
    "language_info": {
      "name": "python"
    }
  },
  "cells": [
    {
      "cell_type": "markdown",
      "metadata": {
        "id": "view-in-github",
        "colab_type": "text"
      },
      "source": [
        "<a href=\"https://colab.research.google.com/github/Sarikaa9/SMS-Spam-classifier/blob/main/SMS_Spam_classifier.ipynb\" target=\"_parent\"><img src=\"https://colab.research.google.com/assets/colab-badge.svg\" alt=\"Open In Colab\"/></a>"
      ]
    },
    {
      "cell_type": "code",
      "execution_count": null,
      "metadata": {
        "id": "iE7AeWT3PMq2"
      },
      "outputs": [],
      "source": [
        "import numpy as np\n",
        "import pandas as pd"
      ]
    },
    {
      "cell_type": "code",
      "source": [
        "df=pd.read_csv('spam.csv')"
      ],
      "metadata": {
        "id": "FpVhKkpSsxmJ"
      },
      "execution_count": null,
      "outputs": []
    },
    {
      "cell_type": "code",
      "source": [
        "df.sample(5)"
      ],
      "metadata": {
        "id": "P3VF0iARs09V"
      },
      "execution_count": null,
      "outputs": []
    },
    {
      "cell_type": "code",
      "source": [
        "df.shape"
      ],
      "metadata": {
        "id": "6JCY965Qs2t2"
      },
      "execution_count": null,
      "outputs": []
    },
    {
      "cell_type": "code",
      "source": [
        "#Data cleaning\n",
        "#EDA\n",
        "#Text Preprocessing\n",
        "#Model Building\n",
        "#Evaluation\n",
        "#improvements\n",
        "#Website and Deployment"
      ],
      "metadata": {
        "id": "7Brp_Tols5Fn"
      },
      "execution_count": null,
      "outputs": []
    },
    {
      "cell_type": "markdown",
      "source": [
        "Data Cleaning"
      ],
      "metadata": {
        "id": "psf3prPctH5W"
      }
    },
    {
      "cell_type": "code",
      "source": [
        "df.info()"
      ],
      "metadata": {
        "id": "flbVh-c9tFNH"
      },
      "execution_count": null,
      "outputs": []
    },
    {
      "cell_type": "code",
      "source": [
        "# drop last three columns\n",
        "df.drop(columns=['Unnamed: 2','Unnamed: 3','Unnamed: 4'],inplace=True)"
      ],
      "metadata": {
        "id": "fAWloLSztLB_"
      },
      "execution_count": null,
      "outputs": []
    },
    {
      "cell_type": "code",
      "source": [
        "df.sample(5)"
      ],
      "metadata": {
        "id": "ifOpKG3UuEi_"
      },
      "execution_count": null,
      "outputs": []
    },
    {
      "cell_type": "code",
      "source": [
        "# renaming the columns\n",
        "df.rename(columns={'v1' : 'target','v2':'text'},inplace=True)\n",
        "df.sample(5)"
      ],
      "metadata": {
        "id": "eJH3wuxwuyxU"
      },
      "execution_count": null,
      "outputs": []
    },
    {
      "cell_type": "code",
      "source": [
        "from sklearn.preprocessing import LabelEncoder\n",
        "encoder=LabelEncoder()"
      ],
      "metadata": {
        "id": "G1nAlCY1vA9a"
      },
      "execution_count": null,
      "outputs": []
    },
    {
      "cell_type": "code",
      "source": [
        "df['target']=encoder.fit_transform(df['target'])"
      ],
      "metadata": {
        "id": "VewK4vGH1Qzs"
      },
      "execution_count": null,
      "outputs": []
    },
    {
      "cell_type": "code",
      "source": [
        "df.head()"
      ],
      "metadata": {
        "id": "xSEgdnc61VFw"
      },
      "execution_count": null,
      "outputs": []
    },
    {
      "cell_type": "code",
      "source": [
        "df.isnull().sum()"
      ],
      "metadata": {
        "id": "HQ8tOgkQ2Ci-"
      },
      "execution_count": null,
      "outputs": []
    },
    {
      "cell_type": "code",
      "source": [
        "#check for duplicate values\n",
        "df.duplicated().sum()"
      ],
      "metadata": {
        "id": "KMxKy4L_2Ecx"
      },
      "execution_count": null,
      "outputs": []
    },
    {
      "cell_type": "code",
      "source": [
        "#remove duplicates\n",
        "df=df.drop_duplicates(keep='first')"
      ],
      "metadata": {
        "id": "KkdjGRG62Jkz"
      },
      "execution_count": null,
      "outputs": []
    },
    {
      "cell_type": "code",
      "source": [
        "df.duplicated().sum()"
      ],
      "metadata": {
        "id": "zITNm42x2Sdf"
      },
      "execution_count": null,
      "outputs": []
    },
    {
      "cell_type": "code",
      "source": [
        "df.shape"
      ],
      "metadata": {
        "id": "cmEIhVi92UkI"
      },
      "execution_count": null,
      "outputs": []
    },
    {
      "cell_type": "markdown",
      "source": [
        "2. EDA"
      ],
      "metadata": {
        "id": "9hlEk6bj2XVX"
      }
    },
    {
      "cell_type": "code",
      "source": [
        "df.head()"
      ],
      "metadata": {
        "id": "XwulhAdS2V17"
      },
      "execution_count": null,
      "outputs": []
    },
    {
      "cell_type": "code",
      "source": [
        "df['target'].value_counts()"
      ],
      "metadata": {
        "id": "SM65ahJV2eI-"
      },
      "execution_count": null,
      "outputs": []
    },
    {
      "cell_type": "code",
      "source": [
        "import maplotlib.pyplot as plt\n",
        "plt.pie(df['target'].value_counts(),labels=['ham','spam'],autopct=\"%0.2f\")\n",
        "plt.show()"
      ],
      "metadata": {
        "id": "Q5XzHR062hRt"
      },
      "execution_count": null,
      "outputs": []
    },
    {
      "cell_type": "code",
      "source": [
        "#data is imbalanced"
      ],
      "metadata": {
        "id": "-fIGOZDy28ZV"
      },
      "execution_count": null,
      "outputs": []
    },
    {
      "cell_type": "code",
      "source": [
        "import nltk\n"
      ],
      "metadata": {
        "id": "LMY5SGNI3HYy"
      },
      "execution_count": null,
      "outputs": []
    },
    {
      "cell_type": "code",
      "source": [
        "!pip install nltk"
      ],
      "metadata": {
        "id": "vumDcejb3f6I"
      },
      "execution_count": null,
      "outputs": []
    },
    {
      "cell_type": "code",
      "source": [
        "nltk.download('punkt')"
      ],
      "metadata": {
        "id": "Ny81O8uN3Zc_"
      },
      "execution_count": null,
      "outputs": []
    },
    {
      "cell_type": "code",
      "source": [
        "#count no. of characters\n",
        "df['num_characters']=df['text'].apply(len)"
      ],
      "metadata": {
        "id": "rR6YysF13lDz"
      },
      "execution_count": null,
      "outputs": []
    },
    {
      "cell_type": "code",
      "source": [
        "df.head()"
      ],
      "metadata": {
        "id": "ahwU1t393yqE"
      },
      "execution_count": null,
      "outputs": []
    },
    {
      "cell_type": "code",
      "source": [
        "# num of words\n",
        "df['num_words']=df['text'].apply(lambda x:len(nltk.word_tokenize(x)))"
      ],
      "metadata": {
        "id": "yicwWUdB339p"
      },
      "execution_count": null,
      "outputs": []
    },
    {
      "cell_type": "code",
      "source": [
        "df.head()\n"
      ],
      "metadata": {
        "id": "jp_nGiqO4EU1"
      },
      "execution_count": null,
      "outputs": []
    },
    {
      "cell_type": "code",
      "source": [
        "#num of sentences\n",
        "df['num_sentences']=df['text'].apply(lambda x:len(nltk.sent_tokenize(x)))"
      ],
      "metadata": {
        "id": "NKA47swq4Mve"
      },
      "execution_count": null,
      "outputs": []
    },
    {
      "cell_type": "code",
      "source": [
        "df.head()"
      ],
      "metadata": {
        "id": "85c8bPKm4VGW"
      },
      "execution_count": null,
      "outputs": []
    },
    {
      "cell_type": "code",
      "source": [
        "df[['num_characters','num_words','num_sentences']].describe()\n"
      ],
      "metadata": {
        "id": "-xYh-MZE4XAc"
      },
      "execution_count": null,
      "outputs": []
    },
    {
      "cell_type": "code",
      "source": [
        "#ham messages\n",
        "df[df['target']==0][['num_characters','num_words','num_sentences']].describe()"
      ],
      "metadata": {
        "id": "sPJ7nKFd4jbF"
      },
      "execution_count": null,
      "outputs": []
    },
    {
      "cell_type": "code",
      "source": [
        "#spam messages\n",
        "df[df['target']==1][['num_characters','num_words','num_sentences']].describe()"
      ],
      "metadata": {
        "id": "AUbh7sF25Ky1"
      },
      "execution_count": null,
      "outputs": []
    },
    {
      "cell_type": "code",
      "source": [
        "import seaborn as sns"
      ],
      "metadata": {
        "id": "52GwnZ875VCF"
      },
      "execution_count": null,
      "outputs": []
    },
    {
      "cell_type": "code",
      "source": [
        "sns.histplot(df[df['target']==0]['num_characters'])\n",
        "sns.histplot(df[df['target']==1]['num_characters'],color='red')"
      ],
      "metadata": {
        "id": "JGORSjy25fcX"
      },
      "execution_count": null,
      "outputs": []
    },
    {
      "cell_type": "code",
      "source": [
        "sns.histplot(df[df['target']==0]['num_words'])\n",
        "sns.histplot(df[df['target']==1]['num_words'],color='red')"
      ],
      "metadata": {
        "id": "-jMS5TAX5r4d"
      },
      "execution_count": null,
      "outputs": []
    },
    {
      "cell_type": "code",
      "source": [
        "sns.pairplot(df,hue='target')"
      ],
      "metadata": {
        "id": "E9ZQapM96LZ6"
      },
      "execution_count": null,
      "outputs": []
    },
    {
      "cell_type": "code",
      "source": [
        "sns.heatmap(df.corr(),annot=True)"
      ],
      "metadata": {
        "id": "uS5sMVC26P3n"
      },
      "execution_count": null,
      "outputs": []
    },
    {
      "cell_type": "markdown",
      "source": [
        "3 Data Preprocessing\n",
        "Lower case\n",
        "Tokenisation\n",
        "Removing special characters\n",
        "Removing stop words and punctuations\n",
        "Stemming"
      ],
      "metadata": {
        "id": "Fbg0xJQ77CSo"
      }
    },
    {
      "cell_type": "code",
      "source": [
        "def transform_text(text):\n",
        "  text=text.lower()\n",
        "  text=nltk.word_tokenize(text)\n",
        "\n",
        "  y=[]\n",
        "  for i in text :\n",
        "    if i.isalnum():\n",
        "      y.append(i)\n",
        "  text=y[:]\n",
        "  y.clear()\n",
        "\n",
        "  for i in text:\n",
        "    if i not in stopwords.words('english') and i not in string.punctuation:\n",
        "      y.append(i)\n",
        "  text=y[:]\n",
        "  y.clear()\n",
        "  for i in text:\n",
        "    y.append(ps.stem(i))\n",
        "\n",
        "\n",
        "  return \" \".join(y)"
      ],
      "metadata": {
        "id": "WxCgNtdc63Dz"
      },
      "execution_count": null,
      "outputs": []
    },
    {
      "cell_type": "code",
      "source": [
        "from nltk.corpus import stopwords\n",
        "stopwords.words('english')"
      ],
      "metadata": {
        "id": "4kko285jAZ9e"
      },
      "execution_count": null,
      "outputs": []
    },
    {
      "cell_type": "code",
      "source": [
        "import string\n",
        "string.punctuation"
      ],
      "metadata": {
        "id": "UgpO2BdoAxnC"
      },
      "execution_count": null,
      "outputs": []
    },
    {
      "cell_type": "code",
      "source": [
        "from ntlk.stem.porter import PortStemmer\n",
        "ps=PortStemmer()\n",
        "ps.stem('loving')"
      ],
      "metadata": {
        "id": "cpJspHqGBd_Q"
      },
      "execution_count": null,
      "outputs": []
    },
    {
      "cell_type": "code",
      "source": [
        "df['transformed_text']=df['text'].apply(transform_text)"
      ],
      "metadata": {
        "id": "h9pbSEdpBnmx"
      },
      "execution_count": null,
      "outputs": []
    },
    {
      "cell_type": "code",
      "source": [
        "df.head()"
      ],
      "metadata": {
        "id": "d-BdSHsrFj05"
      },
      "execution_count": null,
      "outputs": []
    },
    {
      "cell_type": "code",
      "source": [
        "from wordcloud import Wordcloud\n",
        "wc=WordCloud(width=500,height=500,min_font_size=10,background_color='white')"
      ],
      "metadata": {
        "id": "iPU-WLxZFmtS"
      },
      "execution_count": null,
      "outputs": []
    },
    {
      "cell_type": "code",
      "source": [
        "spam_wc=wc.generate(df[df['target']==1]['transformed_text'].str.cat(sep=\" \"))\n"
      ],
      "metadata": {
        "id": "Ezbx047VF2-T"
      },
      "execution_count": null,
      "outputs": []
    },
    {
      "cell_type": "code",
      "source": [
        "plt.figure(figsize=(15,6))\n",
        "plt.imshow(spam_wc)"
      ],
      "metadata": {
        "id": "dl4hbCN9IJXu"
      },
      "execution_count": null,
      "outputs": []
    },
    {
      "cell_type": "code",
      "source": [
        "ham_wc=wc.generate(df[df['target']==0]['transformed_text'].str.cat(sep=\" \"))\n"
      ],
      "metadata": {
        "id": "YQ9oHncxISsl"
      },
      "execution_count": null,
      "outputs": []
    },
    {
      "cell_type": "code",
      "source": [
        "plt.figure(figsize=(15,6))\n",
        "plt.imshow(ham_wc)"
      ],
      "metadata": {
        "id": "5jUtZaaRI7Pl"
      },
      "execution_count": null,
      "outputs": []
    },
    {
      "cell_type": "code",
      "source": [
        "df.head()"
      ],
      "metadata": {
        "id": "CH9ZSdO4I_4M"
      },
      "execution_count": null,
      "outputs": []
    },
    {
      "cell_type": "code",
      "source": [
        "spam_corpus=[]\n",
        "for msg in df[df['target']==1]['transformed_text'].tolist():\n",
        "  for word in msg.split():\n",
        "    spam_corpus.append(word)\n"
      ],
      "metadata": {
        "id": "mo0I2iVrJH9x"
      },
      "execution_count": null,
      "outputs": []
    },
    {
      "cell_type": "code",
      "source": [
        "len(spam_corpus)"
      ],
      "metadata": {
        "id": "n6D2-OaWJozx"
      },
      "execution_count": null,
      "outputs": []
    },
    {
      "cell_type": "code",
      "source": [
        "from collections import Counter\n",
        "sns.barplot(pd.DataFrame(Counter(spam_corpus).most_common(30))[1])\n",
        "plt.xticks(roration='vertical')\n",
        "plt.show()\n"
      ],
      "metadata": {
        "id": "HlaQFUQ3Jsty"
      },
      "execution_count": null,
      "outputs": []
    },
    {
      "cell_type": "code",
      "source": [
        "ham_corpus=[]\n",
        "for msg in df[df['target']==1]['transformed_text'].tolist():\n",
        "  for word in msg.split():\n",
        "    ham_corpus.append(word)\n"
      ],
      "metadata": {
        "id": "RaaZAw9_KIKy"
      },
      "execution_count": null,
      "outputs": []
    },
    {
      "cell_type": "code",
      "source": [
        "len(ham_corpus)"
      ],
      "metadata": {
        "id": "Hqsfg4rVLC0-"
      },
      "execution_count": null,
      "outputs": []
    },
    {
      "cell_type": "code",
      "source": [
        "from collections import Counter\n",
        "sns.barplot(pd.DataFrame(Counter(ham_corpus).most_common(30))[1])\n",
        "plt.xticks(roration='vertical')\n",
        "plt.show()\n"
      ],
      "metadata": {
        "id": "4-7E_2AtLEEk"
      },
      "execution_count": null,
      "outputs": []
    },
    {
      "cell_type": "markdown",
      "source": [
        "**4. Model Building**"
      ],
      "metadata": {
        "id": "-08d-z8xLLdi"
      }
    },
    {
      "cell_type": "code",
      "source": [
        "from sklearn.feature_extraction.text import CountVectorizer,TfidfVectorizer\n",
        "cv=CountVectorizer()\n",
        "tfidf=TfidfVectorizer(max_features=3000)"
      ],
      "metadata": {
        "id": "tRb8q11yLKZt"
      },
      "execution_count": null,
      "outputs": []
    },
    {
      "cell_type": "code",
      "source": [
        "X=tfidf.fit_transform(df['transformed_text']).toarray()"
      ],
      "metadata": {
        "id": "F1T6J4JdM9Yj"
      },
      "execution_count": null,
      "outputs": []
    },
    {
      "cell_type": "code",
      "source": [
        "X.shape\n",
        "y=df['target'].values"
      ],
      "metadata": {
        "id": "iaxgkhRJNWBm"
      },
      "execution_count": null,
      "outputs": []
    },
    {
      "cell_type": "code",
      "source": [
        "from sklearn.model_selection import train_test_split"
      ],
      "metadata": {
        "id": "uKBpfh2pNdCt"
      },
      "execution_count": null,
      "outputs": []
    },
    {
      "cell_type": "code",
      "source": [
        "X_train,X_test,y_train,y_test=train_test_split(X,y,test_size=0.2,random_state=2)"
      ],
      "metadata": {
        "id": "xOmP8XqhNhrE"
      },
      "execution_count": null,
      "outputs": []
    },
    {
      "cell_type": "code",
      "source": [
        "from sklearn.naive_bayes import GaussianNB,MultinomialNB,BernoulliNB\n",
        "from sklearn.metrics import accuracy_score,confusion_matrix,precision_score"
      ],
      "metadata": {
        "id": "71F5CiO0NvcB"
      },
      "execution_count": null,
      "outputs": []
    },
    {
      "cell_type": "code",
      "source": [
        "gnb=GaussianNB()\n",
        "mnb=MultinomialNB()\n",
        "bnb=BernoulliNB()"
      ],
      "metadata": {
        "id": "Cny4-0vMN5LR"
      },
      "execution_count": null,
      "outputs": []
    },
    {
      "cell_type": "code",
      "source": [
        "gnb.fit(X_train,y_train)\n",
        "y_pred1=gnb.predict(X_test)\n",
        "print(accuracy_score(y_test,y_pred1))\n",
        "print(confusion_matrix(y_test,y_pred1))\n",
        "print(precision_score(y_test,y_pred1))"
      ],
      "metadata": {
        "id": "1dqpTtiNN_pY"
      },
      "execution_count": null,
      "outputs": []
    },
    {
      "cell_type": "code",
      "source": [
        "mnb.fit(X_train,y_train)\n",
        "y_pred1=mnb.predict(X_test)\n",
        "print(accuracy_score(y_test,y_pred2))\n",
        "print(confusion_matrix(y_test,y_pred2))\n",
        "print(precision_score(y_test,y_pred2))"
      ],
      "metadata": {
        "id": "3F2EJYBkPljJ"
      },
      "execution_count": null,
      "outputs": []
    },
    {
      "cell_type": "code",
      "source": [
        "bnb.fit(X_train,y_train)\n",
        "y_pred1=bnb.predict(X_test)\n",
        "print(accuracy_score(y_test,y_pred3))\n",
        "print(confusion_matrix(y_test,y_pred3))\n",
        "print(precision_score(y_test,y_pred3))"
      ],
      "metadata": {
        "id": "wI5GHf8kR5j8"
      },
      "execution_count": null,
      "outputs": []
    },
    {
      "cell_type": "code",
      "source": [
        "#ifidf mnb has been chosen"
      ],
      "metadata": {
        "id": "WILeSXmzTs29"
      },
      "execution_count": null,
      "outputs": []
    },
    {
      "cell_type": "code",
      "source": [
        "import pickle\n",
        "pickle.dump(tfidf,open('vectorizer.pkl','wb'))\n",
        "pickle.dump(mnb,open('model.pkl','wb'))"
      ],
      "metadata": {
        "id": "oNLSjQgmTzYq"
      },
      "execution_count": null,
      "outputs": []
    }
  ]
}